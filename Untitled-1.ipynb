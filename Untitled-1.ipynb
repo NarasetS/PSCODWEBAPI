{
 "cells": [
  {
   "cell_type": "code",
   "execution_count": 1,
   "metadata": {},
   "outputs": [],
   "source": [
    "import pandas as pd"
   ]
  },
  {
   "cell_type": "code",
   "execution_count": 2,
   "metadata": {},
   "outputs": [],
   "source": [
    "df = pd.read_csv('Output\\\\DailyFuelData_01-01-2021_to_31-12-2021.csv')"
   ]
  },
  {
   "cell_type": "code",
   "execution_count": 3,
   "metadata": {},
   "outputs": [
    {
     "name": "stdout",
     "output_type": "stream",
     "text": [
      "['GAS' 'DIESEL' 'HYDRO' 'BUNKER OIL' 'COAL' 'PALM OIL']\n"
     ]
    }
   ],
   "source": [
    "print(df['FUELTYPE'].unique())"
   ]
  },
  {
   "cell_type": "code",
   "execution_count": 4,
   "metadata": {},
   "outputs": [
    {
     "name": "stdout",
     "output_type": "stream",
     "text": [
      "['KN-C22' 'SB-C41' 'SB-C42' 'BPK-C11' 'GSRC-C1' 'GSRC-C2' 'SB-C2' 'NPO-C1'\n",
      " 'NPO-C2' 'WN-C3' 'RB-C1' 'RB-C2' 'RB-C3' 'RB-T1' 'RB-T2' 'GLOW-C1'\n",
      " 'GLOW-C2' 'KPG-C1' 'KPG-C2' 'BPK-T1' 'BPK-T3' 'BPK-T4' 'RPCL-C1'\n",
      " 'RPCL-C2' 'CHN-C1' 'SB-C3' 'BPK-C5' 'NB-C1' 'GUT-C1' 'GUT-C2' 'GNS-C1'\n",
      " 'GNS-C2' 'GPS-C1' 'CHN-C21' 'CHN-C22' 'EPEC-C1' 'WN-C4' 'NB-C21' 'NB-C22'\n",
      " 'KN-C21' 'BPK-T2' 'BPK-C12' 'GSRC-C3' 'GSRC-C4' 'SB-C1' 'BPK-C3' 'BPK-C4'\n",
      " 'SB-T4' 'SB-T5' 'WN-C1' 'WN-C2' 'KN-C1']\n",
      "['Khanom Natural Gas' 'Eastern Natural Gas' 'Western Natural Gas'\n",
      " 'Nam Phong Natural Gas' 'JDA Gas']\n"
     ]
    }
   ],
   "source": [
    "df_gas = df.loc[df['FUELTYPE'] == 'GAS']\n",
    "df_gas.reset_index(inplace=True,drop=True)\n",
    "\n",
    "list_plantname = df_gas['NAME'].unique()\n",
    "list_fuelname = df_gas['FUELENGNAME'].unique()\n",
    "\n",
    "print(list_plantname)\n",
    "print(list_fuelname)"
   ]
  },
  {
   "cell_type": "code",
   "execution_count": null,
   "metadata": {},
   "outputs": [],
   "source": [
    "df_gas['ACTUAL'].loc[df_gas['']]"
   ]
  }
 ],
 "metadata": {
  "kernelspec": {
   "display_name": "Python 3",
   "language": "python",
   "name": "python3"
  },
  "language_info": {
   "codemirror_mode": {
    "name": "ipython",
    "version": 3
   },
   "file_extension": ".py",
   "mimetype": "text/x-python",
   "name": "python",
   "nbconvert_exporter": "python",
   "pygments_lexer": "ipython3",
   "version": "3.11.1"
  }
 },
 "nbformat": 4,
 "nbformat_minor": 2
}
