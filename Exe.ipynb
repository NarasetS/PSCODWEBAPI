{
 "cells": [
  {
   "cell_type": "code",
   "execution_count": 1,
   "metadata": {},
   "outputs": [],
   "source": [
    "import PSDCODAPIFUNCS as psd\n",
    "import json\n",
    "import pandas as pd\n",
    "from pandas import json_normalize"
   ]
  },
  {
   "cell_type": "code",
   "execution_count": 2,
   "metadata": {},
   "outputs": [
    {
     "name": "stdout",
     "output_type": "stream",
     "text": [
      "Convert U:P to base64 str\n",
      "Getting Token\n"
     ]
    }
   ],
   "source": [
    "### Usernamepassword input format as \"username:password\" ##\n",
    "usernamepassword = \"\"\n",
    "usernamepasswordbase64 = psd.converttobase64(usernamepassword)\n",
    "token = psd.gettoken(usernamepasswordbase64)"
   ]
  },
  {
   "cell_type": "code",
   "execution_count": 4,
   "metadata": {},
   "outputs": [
    {
     "name": "stdout",
     "output_type": "stream",
     "text": [
      "Import daily fuel data from 01/01/2022 to 31/12/2022\n"
     ]
    }
   ],
   "source": [
    "### Date input format as \"Date/Month/Year\"\n",
    "startdate = '01/01/2022'\n",
    "enddate = '31/12/2022'\n",
    "\n",
    "dt_dailyfueldata = psd.importdailyfuel(startdate,enddate,token)\n",
    "dt_dailyfueldata.to_csv('DailyFuelData_'+startdate.replace('/','-')+'_to_'+enddate.replace('/','-')+'.csv',encoding=\"utf-8-sig\",index=False)\n",
    "\n",
    "dt_dailyenergycompare = psd.importdailyenergy(startdate,enddate,token)\n",
    "dt_dailyenergycompare.to_csv('DailyEnergyData_'+startdate.replace('/','-')+'_to_'+enddate.replace('/','-')+'.csv',encoding=\"utf-8-sig\",index=False)\n"
   ]
  }
 ],
 "metadata": {
  "kernelspec": {
   "display_name": "Python 3",
   "language": "python",
   "name": "python3"
  },
  "language_info": {
   "codemirror_mode": {
    "name": "ipython",
    "version": 3
   },
   "file_extension": ".py",
   "mimetype": "text/x-python",
   "name": "python",
   "nbconvert_exporter": "python",
   "pygments_lexer": "ipython3",
   "version": "3.11.1"
  }
 },
 "nbformat": 4,
 "nbformat_minor": 2
}
